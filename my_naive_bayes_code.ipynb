{
 "cells": [
  {
   "cell_type": "code",
   "execution_count": 162,
   "metadata": {},
   "outputs": [],
   "source": [
    "import pandas as pd\n",
    "import numpy as np\n",
    "from collections import Counter,defaultdict\n",
    "from evaluators import *\n",
    "df = pd.read_csv('train.txt',header = None)\n",
    "Y_train= df[14].values\n",
    "del df[2]\n",
    "del df[14]\n",
    "X_train=df.values\n",
    "\n",
    "df = pd.read_csv('test.txt',header = None)\n",
    "Y_test= df[14].values\n",
    "del df[2]\n",
    "del df[14]\n",
    "X_test=df.values\n"
   ]
  },
  {
   "cell_type": "code",
   "execution_count": 163,
   "metadata": {},
   "outputs": [],
   "source": [
    "class NaiveBaseClass:\n",
    "    def get_pro(self,item):\n",
    "        no_item = len(item)\n",
    "        dict_item = dict(Counter(item))\n",
    "        for key in dict_item.keys():\n",
    "            dict_item[key] = float(dict_item[key])/no_item\n",
    "        return dict_item\n",
    "    \n",
    "    def get_max_value_key(self,d1):\n",
    "        values = d1.values()\n",
    "        keys =d1.keys()\n",
    "        max_value_index = values.index(max(values))\n",
    "        max_key = keys[max_value_index]\n",
    "        return max_key\n",
    "    def initialize_nb_dict(self):\n",
    "        self.nb_dict ={}\n",
    "        for label in self.labels:\n",
    "            self.nb_dict[label] = defaultdict(list)\n",
    "        \n",
    "     \n",
    "class NaiveBayesClassifier(NaiveBaseClass):\n",
    "    def train(self,X,Y):\n",
    "        self.labels = np.unique(Y)\n",
    "        self.initialize_nb_dict()\n",
    "        self.dict_pro_perClass = self.get_pro(Y)\n",
    "        for label in self.labels:\n",
    "            row_indices = np.where(Y==label)[0]\n",
    "            X_= X[row_indices,:]\n",
    "            n_rows,n_cols = np.shape(X_)\n",
    "            for col in range(n_cols):\n",
    "                self.nb_dict[label][col] += list(X_[:,col])\n",
    "            \n",
    "        for label in self.labels:\n",
    "            for col in range(n_cols):\n",
    "                self.nb_dict[label][col] = self.get_pro(self.nb_dict[label][col])    \n",
    "    \n",
    "    def pro_per_elem(self,X_elem):\n",
    "        dict_pro = {}\n",
    "        for label in self.labels:\n",
    "            class_pro = self.dict_pro_perClass[label]\n",
    "            for ii in range(len(X_elem)):\n",
    "                dict_feature_values=self.nb_dict[label][ii]\n",
    "                if X_elem[ii] in dict_feature_values.keys():\n",
    "                    class_pro *= dict_feature_values[X_elem[ii]]\n",
    "                else:\n",
    "                    class_pro *=0\n",
    "            dict_pro[label] = class_pro\n",
    "        return self.get_max_value_key(dict_pro)\n",
    "    \n",
    "    def classify(self,X):\n",
    "        self.predicted_Y_values = []\n",
    "        rows, cols = np.shape(X)\n",
    "        for ii in range(rows):\n",
    "            X_elem = X[ii,:]\n",
    "            prediction = self.pro_per_elem(X_elem)\n",
    "            self.predicted_Y_values.append(prediction)\n",
    "        return self.predicted_Y_values       "
   ]
  },
  {
   "cell_type": "code",
   "execution_count": 164,
   "metadata": {},
   "outputs": [
    {
     "name": "stdout",
     "output_type": "stream",
     "text": [
      "trained\n",
      "F1-score on the test-set for class  <=50K is: 0.894577807621\n",
      "F1-score on the test-set for class  >50K is: 0.7123883673\n"
     ]
    }
   ],
   "source": [
    "nbc = NaiveBayesClassifier()\n",
    "nbc.train(X_train,Y_train)\n",
    "print(\"trained\")\n",
    "predicted_Y = nbc.classify(X_test)\n",
    "y_labels = np.unique(Y_test)\n",
    "for y_label in y_labels:\n",
    "    f1 = f1_score(predicted_Y,Y_test,y_label)\n",
    "    print (\"F1-score on the test-set for class %s is: %s\"% (y_label,f1))"
   ]
  },
  {
   "cell_type": "code",
   "execution_count": null,
   "metadata": {
    "collapsed": true
   },
   "outputs": [],
   "source": []
  },
  {
   "cell_type": "code",
   "execution_count": null,
   "metadata": {
    "collapsed": true
   },
   "outputs": [],
   "source": []
  }
 ],
 "metadata": {
  "kernelspec": {
   "display_name": "Python 2",
   "language": "python",
   "name": "python2"
  },
  "language_info": {
   "codemirror_mode": {
    "name": "ipython",
    "version": 2
   },
   "file_extension": ".py",
   "mimetype": "text/x-python",
   "name": "python",
   "nbconvert_exporter": "python",
   "pygments_lexer": "ipython2",
   "version": "2.7.13"
  }
 },
 "nbformat": 4,
 "nbformat_minor": 2
}
